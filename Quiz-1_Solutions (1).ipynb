{
  "nbformat": 4,
  "nbformat_minor": 0,
  "metadata": {
    "colab": {
      "provenance": [],
      "toc_visible": true
    },
    "kernelspec": {
      "name": "python3",
      "display_name": "Python 3"
    },
    "language_info": {
      "name": "python"
    }
  },
  "cells": [
    {
      "cell_type": "markdown",
      "source": [
        "# Mount to Google Drive\n",
        "In order to use sqlite3, we need to connect to .db file. My .db file is stored in Google Drive. So mount to Google drive and specific folder first.\n"
      ],
      "metadata": {
        "id": "wQWyrE-2d-8B"
      }
    },
    {
      "cell_type": "code",
      "source": [
        "from google.colab import drive\n",
        "drive.mount('/content/drive')"
      ],
      "metadata": {
        "colab": {
          "base_uri": "https://localhost:8080/"
        },
        "id": "kl-RTfQoZCLi",
        "outputId": "83b9a7ff-2964-4c4c-82ff-f023ef68bf77"
      },
      "execution_count": 47,
      "outputs": [
        {
          "output_type": "stream",
          "name": "stdout",
          "text": [
            "Drive already mounted at /content/drive; to attempt to forcibly remount, call drive.mount(\"/content/drive\", force_remount=True).\n"
          ]
        }
      ]
    },
    {
      "cell_type": "markdown",
      "source": [
        "# Use sqlite3"
      ],
      "metadata": {
        "id": "McQYSbYse5_Z"
      }
    },
    {
      "cell_type": "markdown",
      "source": [
        "**Prep Up Environment**"
      ],
      "metadata": {
        "id": "lK_2aF1xYHzV"
      }
    },
    {
      "cell_type": "code",
      "source": [
        "import sqlite3"
      ],
      "metadata": {
        "id": "drB2Zz7zY_MY"
      },
      "execution_count": 151,
      "outputs": []
    },
    {
      "cell_type": "code",
      "source": [
        "# connect to the db file, the provided db file has already contains all the tables needed for the quiz\n",
        "conn = sqlite3.connect('sqlite.db')"
      ],
      "metadata": {
        "id": "k8OtwtJuZyZ1"
      },
      "execution_count": 152,
      "outputs": []
    },
    {
      "cell_type": "code",
      "source": [
        "cur = conn.cursor()"
      ],
      "metadata": {
        "id": "iXlY_8ACbKrS"
      },
      "execution_count": 153,
      "outputs": []
    },
    {
      "cell_type": "code",
      "source": [
        "# show what tables in the database. \n",
        "res = cur.execute(\"SELECT name FROM sqlite_master\")\n",
        "res.fetchall()"
      ],
      "metadata": {
        "colab": {
          "base_uri": "https://localhost:8080/"
        },
        "id": "p3sHY5jGcoju",
        "outputId": "61589154-31ab-4bdc-b507-faf30d182960"
      },
      "execution_count": 154,
      "outputs": [
        {
          "output_type": "execute_result",
          "data": {
            "text/plain": [
              "[('clicks',),\n",
              " ('sqlite_autoindex_clicks_1',),\n",
              " ('documents_meta',),\n",
              " ('events',),\n",
              " ('promoted_content',)]"
            ]
          },
          "metadata": {},
          "execution_count": 154
        }
      ]
    },
    {
      "cell_type": "code",
      "source": [
        "# sample query\n",
        "res = cur.execute(\"SELECT * FROM documents_meta limit 5\")\n",
        "res.fetchall()"
      ],
      "metadata": {
        "colab": {
          "base_uri": "https://localhost:8080/"
        },
        "id": "JxzDOmCvbLtY",
        "outputId": "c9c0cb3f-a4a7-421d-e1e6-2fc64ec3f38f"
      },
      "execution_count": 155,
      "outputs": [
        {
          "output_type": "execute_result",
          "data": {
            "text/plain": [
              "[(2191, 8890, 114, '2012-02-01 00:00:00'),\n",
              " (2861, 366, 781, '2010-01-16 00:00:00'),\n",
              " (4099, 488, 58, '2013-03-12 00:00:00'),\n",
              " (4551, 1426, 47, '2015-08-22 04:00:00'),\n",
              " (5425, 3003, 26, '')]"
            ]
          },
          "metadata": {},
          "execution_count": 155
        }
      ]
    },
    {
      "cell_type": "code",
      "source": [
        "data=cur.execute(\"SELECT * FROM events where platform=3 limit 5\")\n",
        "data.fetchall()"
      ],
      "metadata": {
        "colab": {
          "base_uri": "https://localhost:8080/"
        },
        "id": "cNbLDfA196uj",
        "outputId": "e343d9bd-91c1-49f7-9b41-f7a6a72d1f94"
      },
      "execution_count": 156,
      "outputs": [
        {
          "output_type": "execute_result",
          "data": {
            "text/plain": [
              "[(1, 'cb8c55702adb93', 379743, 61, 3, 'US>SC>519'),\n",
              " (6, '7765b4faae4ad4', 1773517, 395, 3, 'US>OH>510'),\n",
              " (11, '602e210c5831e5', 1773230, 710, 3, 'US>IL>675'),\n",
              " (14, 'daef797fc210a2', 1759953, 798, 3, 'US>NC>560'),\n",
              " (19, 'c419799a427c72', 1155107, 1202, 3, 'US>HI>744')]"
            ]
          },
          "metadata": {},
          "execution_count": 156
        }
      ]
    },
    {
      "cell_type": "markdown",
      "source": [
        "***Notes***\n",
        "\n",
        "platform (desktop = 1, mobile = 2, tablet =3)\n",
        "\n",
        "clicked (1 if clicked, 0 otherwise)"
      ],
      "metadata": {
        "id": "e7Jlna3CIY8C"
      }
    },
    {
      "cell_type": "markdown",
      "source": [
        "## Question-1##\n",
        "\n",
        "Retrieve all display events shown in tablet (platform). Please use events table and return all attributes of \n",
        "the display event that satisfy the condition.\n",
        "\n",
        "\n",
        "In your solution, please provide the SQL query which can best answer the question. Also, please answer \n",
        "how many rows are in the returned results of the provided query. "
      ],
      "metadata": {
        "id": "Vo9b_cgqIsCd"
      }
    },
    {
      "cell_type": "code",
      "source": [
        "data=cur.execute(\"select a.* from events a where a.platform=3 limit 5\")\n",
        "data.fetchall()"
      ],
      "metadata": {
        "colab": {
          "base_uri": "https://localhost:8080/"
        },
        "id": "_3zWLC6BBoyW",
        "outputId": "685de30a-32f8-4fbc-d884-0854850b9d9d"
      },
      "execution_count": 157,
      "outputs": [
        {
          "output_type": "execute_result",
          "data": {
            "text/plain": [
              "[(1, 'cb8c55702adb93', 379743, 61, 3, 'US>SC>519'),\n",
              " (6, '7765b4faae4ad4', 1773517, 395, 3, 'US>OH>510'),\n",
              " (11, '602e210c5831e5', 1773230, 710, 3, 'US>IL>675'),\n",
              " (14, 'daef797fc210a2', 1759953, 798, 3, 'US>NC>560'),\n",
              " (19, 'c419799a427c72', 1155107, 1202, 3, 'US>HI>744')]"
            ]
          },
          "metadata": {},
          "execution_count": 157
        }
      ]
    },
    {
      "cell_type": "code",
      "source": [
        "data=cur.execute(\"select count(*) from (select a.* from events a where a.platform=3)\")\n",
        "data.fetchall()"
      ],
      "metadata": {
        "colab": {
          "base_uri": "https://localhost:8080/"
        },
        "id": "4x895_oOJFFe",
        "outputId": "a636d393-eb5c-454c-d316-0aeb004ddd5a"
      },
      "execution_count": 158,
      "outputs": [
        {
          "output_type": "execute_result",
          "data": {
            "text/plain": [
              "[(320,)]"
            ]
          },
          "metadata": {},
          "execution_count": 158
        }
      ]
    },
    {
      "cell_type": "markdown",
      "source": [
        "##Question-2##\n",
        "\n",
        "Retrieve all display events that is clicked and shown in desktop (platform). Please return all attributes of \n",
        "the display event that satisfy the condition. (15 points)\n",
        "\n",
        "In your solution, please provide the SQL query which can best answer the question. Also, please answer \n",
        "how many rows are in the returned results of the provided query. "
      ],
      "metadata": {
        "id": "MOlXqK1vLF0V"
      }
    },
    {
      "cell_type": "code",
      "source": [
        "data=cur.execute(\"select a.* from events a inner join clicks b on a.display_id=b.display_id where a.platform=1 and b.clicked=1 limit 5\")\n",
        "data.fetchall()"
      ],
      "metadata": {
        "colab": {
          "base_uri": "https://localhost:8080/"
        },
        "id": "dokNIxMVKpBI",
        "outputId": "8f9f898e-7091-4866-d4cd-110d8e120ff3"
      },
      "execution_count": 159,
      "outputs": [
        {
          "output_type": "execute_result",
          "data": {
            "text/plain": [
              "[(9, '9dddccf70f6067', 1772126, 667, 1, 'US>FL>528'),\n",
              " (10, 'b09a0e92aa4d17', 157455, 693, 1, 'US'),\n",
              " (12, '6fa993bd0e0157', 892701, 718, 1, 'US>TX>612'),\n",
              " (13, '7355615832b3af', 1778533, 739, 1, 'US>AZ>753'),\n",
              " (16, '30c0ad12b36375', 1727882, 1033, 1, 'US>FL>561')]"
            ]
          },
          "metadata": {},
          "execution_count": 159
        }
      ]
    },
    {
      "cell_type": "code",
      "source": [
        "data=cur.execute(\"select count(*) from (select a.* from events a inner join clicks b on a.display_id=b.display_id where a.platform=1 and b.clicked=1)\")\n",
        "data.fetchall()"
      ],
      "metadata": {
        "colab": {
          "base_uri": "https://localhost:8080/"
        },
        "id": "58NDVPBrMBZs",
        "outputId": "c8140f51-f481-4e28-824e-8c9422e78886"
      },
      "execution_count": 160,
      "outputs": [
        {
          "output_type": "execute_result",
          "data": {
            "text/plain": [
              "[(617,)]"
            ]
          },
          "metadata": {},
          "execution_count": 160
        }
      ]
    },
    {
      "cell_type": "markdown",
      "source": [
        "##Question-3.1##\n",
        "\n",
        "3.1 Please use one SQL query to find out the following answers: \n",
        "\n",
        "per platform how many unique display \n",
        "events have been clicked? \n",
        "\n",
        "per platform how many unique display events have not been clicked? \n",
        "\n",
        "Unique events can be identified according to display_id. \n",
        "\n",
        "For query result, please return whether the events is \n",
        "clicked or not, platform, the counts asked in the questions. \n",
        "\n",
        "If the count is 0, no need to include the tuple in \n",
        "the query result. (10 points)\n"
      ],
      "metadata": {
        "id": "6qrAUpZAMfxS"
      }
    },
    {
      "cell_type": "markdown",
      "source": [
        "**Interpretation**\n",
        "The ask is to find how many unique events(display_id) have been clicked or not  per platform.\n",
        "\n",
        "The results are\n",
        "Clicked, Platform, #Unique count(display_id)"
      ],
      "metadata": {
        "id": "56LasUjlbIra"
      }
    },
    {
      "cell_type": "code",
      "source": [
        "data=cur.execute(\"select b.clicked ,a.platform,count(distinct b.display_id) from events a inner join clicks b on a.display_id=b.display_id where b.clicked='1' group by b.clicked,a.platform union select b.clicked,a.platform,count(distinct b.display_id) from events a inner join clicks b on a.display_id=b.display_id where b.clicked='0' and b.display_id not in (select display_id from Clicks where  clicked='1' ) group by b.clicked, a.platform  \")\n",
        "data.fetchall()"
      ],
      "metadata": {
        "colab": {
          "base_uri": "https://localhost:8080/"
        },
        "id": "wV7e7Y5PPZdw",
        "outputId": "06e77380-115e-44be-881f-86d5e488d540"
      },
      "execution_count": 161,
      "outputs": [
        {
          "output_type": "execute_result",
          "data": {
            "text/plain": [
              "[(1, 1, 617), (1, 2, 1022), (1, 3, 320)]"
            ]
          },
          "metadata": {},
          "execution_count": 161
        }
      ]
    },
    {
      "cell_type": "markdown",
      "source": [
        "##Question 3.2##\n",
        "Please use one SQL query to find out the following answers: \n",
        "\n",
        "per platform how many unique ads \n",
        "events have been clicked? \n",
        "\n",
        "per platform how many unique ads events have not been clicked? \n",
        "\n",
        "Unique \n",
        "events can be identified according to ad_id.\n",
        "\n",
        " For query result, please return whether the events is clicked or \n",
        "not, platform, the counts asked in the questions. If the count is 0, no need to include the tuple in the query \n",
        "result. (5 points)\n"
      ],
      "metadata": {
        "id": "4MW6Oq0PVbfD"
      }
    },
    {
      "cell_type": "code",
      "source": [
        "data=cur.execute(\"select clicked,platform,count(*) from(select b.clicked,a.platform, b.ad_id from events a inner join clicks b on a.display_id=b.display_id where b.clicked='1'  union select b.clicked,a.platform, b.ad_id from events a inner join clicks b on a.display_id=b.display_id where b.clicked='0'  and NOT EXISTS(select 1 from events e inner join clicks f on e.display_id=f.display_id where f.clicked='1' and e.platform=a.platform and f.ad_id=b.ad_id )) group by clicked,platform \")\n",
        "data.fetchall()"
      ],
      "metadata": {
        "colab": {
          "base_uri": "https://localhost:8080/"
        },
        "id": "dqN5P8fSVbE1",
        "outputId": "eb12b1dd-49ae-4ebf-8f6a-3f676c320e3b"
      },
      "execution_count": 162,
      "outputs": [
        {
          "output_type": "execute_result",
          "data": {
            "text/plain": [
              "[(0, 1, 1392),\n",
              " (0, 2, 1255),\n",
              " (0, 3, 756),\n",
              " (1, 1, 457),\n",
              " (1, 2, 686),\n",
              " (1, 3, 263)]"
            ]
          },
          "metadata": {},
          "execution_count": 162
        }
      ]
    },
    {
      "cell_type": "markdown",
      "source": [
        "##Question 4##\n",
        "\n",
        "Exam all advertiser's ads performance in different platforms. We use click through rate to indicate ads \n",
        "performance.\n",
        "\n",
        " Click through rate is defined as the number of ad events have been clicked divided by the \n",
        "number of all ad events. \n",
        "\n",
        "SQL query needs to return ad_id, platform, click through rate. \n",
        "In the SQL query \n",
        "result, the ad and platform with highest click through rate needs to be shown first, and then show the ad \n",
        "and platform with the second highest click through rate, so on so forth, until the the ad and platform with \n",
        "lowest click through rate. \n",
        "\n",
        "Also in the result, please show click through rate as \"ctr\". (20 points)\n",
        "\n",
        "In your solution, please provide the SQL query which can best answer the question. Also, please answer \n",
        "how many rows are in the returned results of the provided query. Also, please provide the screenshot \n",
        "of the first 5 rows in the returned results."
      ],
      "metadata": {
        "id": "ERxCwOpushvE"
      }
    },
    {
      "cell_type": "code",
      "source": [
        "#Final\n",
        "data=cur.execute(\"select Clicked.ad_id, Clicked.platform, Clicked.CNT, cast(Tot.CNT1 as float), (Clicked.CNT/cast(Tot.CNT1 as float)) *100 as ctr from ( select a.ad_id, b.platform, count(*) CNT from clicks a inner join events b on a.display_id = b.display_id where a.clicked = 1 group by ad_id, b.platform ) Clicked, ( select a.ad_id, b.platform, count(*) CNT1 from clicks a inner join events b on a.display_id = b.display_id group by ad_id, b.platform ) Tot where Clicked.ad_id = Tot.ad_id and Clicked.platform = Tot.platform order by ctr desc,Clicked.ad_id, Clicked.platform limit 5 \")\n",
        "data.fetchall()"
      ],
      "metadata": {
        "colab": {
          "base_uri": "https://localhost:8080/"
        },
        "id": "4St-XQHIVy1-",
        "outputId": "e898b4b6-f12f-4c8b-942a-02f1f2057c48"
      },
      "execution_count": 163,
      "outputs": [
        {
          "output_type": "execute_result",
          "data": {
            "text/plain": [
              "[(8386, 3, 1, 1.0, 100.0),\n",
              " (8847, 1, 1, 1.0, 100.0),\n",
              " (8991, 2, 1, 1.0, 100.0),\n",
              " (9231, 1, 1, 1.0, 100.0),\n",
              " (9407, 1, 1, 1.0, 100.0)]"
            ]
          },
          "metadata": {},
          "execution_count": 163
        }
      ]
    },
    {
      "cell_type": "code",
      "source": [
        "#Final\n",
        "data=cur.execute(\"select count(*) from (select Clicked.ad_id, Clicked.platform, Clicked.CNT, cast(Tot.CNT1 as float), (Clicked.CNT/cast(Tot.CNT1 as float)) *100 as ctr from ( select a.ad_id, b.platform, count(*) CNT from clicks a inner join events b on a.display_id = b.display_id where a.clicked = 1 group by ad_id, b.platform ) Clicked, ( select a.ad_id, b.platform, count(*) CNT1 from clicks a inner join events b on a.display_id = b.display_id group by ad_id, b.platform ) Tot where Clicked.ad_id = Tot.ad_id and Clicked.platform = Tot.platform order by ctr desc,Clicked.ad_id, Clicked.platform ) \")\n",
        "data.fetchall()"
      ],
      "metadata": {
        "colab": {
          "base_uri": "https://localhost:8080/"
        },
        "id": "x3xK5aLbeGqF",
        "outputId": "82154dad-4bb6-497c-81ce-89907e354b6b"
      },
      "execution_count": 164,
      "outputs": [
        {
          "output_type": "execute_result",
          "data": {
            "text/plain": [
              "[(1406,)]"
            ]
          },
          "metadata": {},
          "execution_count": 164
        }
      ]
    },
    {
      "cell_type": "markdown",
      "source": [
        "##Question5 ##\n",
        "\n",
        "Exam each advertiser's ads performance across different publishers. For each advertiser, we want to see \n",
        "how their ads are performed in different publishers. \n",
        "\n",
        "Ads performance is measured by click through rate. It \n",
        "is defined in the Question 4. publisher_id can be found in documents_meta table. \n",
        "\n",
        "Please use \n",
        "documents_meta table in your query. In the SQL query result, Please return ad_id, publisher_id, show click \n",
        "through rate as \"ctr\". (20 points)\n",
        "\n",
        "\n",
        "In your solution, please provide the SQL query *which* can best answer the question. Also, please answer \n",
        "how many rows are in the returned results of the provided query. "
      ],
      "metadata": {
        "id": "hramr8xeaesp"
      }
    },
    {
      "cell_type": "code",
      "source": [
        "#Final\n",
        "data=cur.execute(\"select Clicked.ad_id, Clicked.publisher_id, Clicked.CNT, cast(Tot.CNT1 as float), (Clicked.CNT/cast(Tot.CNT1 as float)) *100 as ctr from ( select a.ad_id, c.publisher_id, count(*) CNT from clicks a inner join events b on a.display_id = b.display_id  inner join documents_meta c on c.document_id=b.document_id where a.clicked = 1 group by ad_id, c.publisher_id ) Clicked, ( select a.ad_id, c.publisher_id, count(*) CNT1 from clicks a inner join events b on a.display_id = b.display_id inner join documents_meta c on c.document_id=b.document_id group by ad_id, c.publisher_id ) Tot where Clicked.ad_id = Tot.ad_id and Clicked.publisher_id = Tot.publisher_id order by ctr desc,Clicked.ad_id, Clicked.publisher_id limit 5\")\n",
        "data.fetchall()"
      ],
      "metadata": {
        "colab": {
          "base_uri": "https://localhost:8080/"
        },
        "id": "hHO-3wuWaqTA",
        "outputId": "f8e1f8e0-64a6-43f3-9708-09f4bdea8031"
      },
      "execution_count": 165,
      "outputs": [
        {
          "output_type": "execute_result",
          "data": {
            "text/plain": [
              "[(3358, 450, 1, 1.0, 100.0),\n",
              " (5760, 78, 1, 1.0, 100.0),\n",
              " (7432, 579, 1, 1.0, 100.0),\n",
              " (7432, 869, 1, 1.0, 100.0),\n",
              " (8386, 875, 1, 1.0, 100.0)]"
            ]
          },
          "metadata": {},
          "execution_count": 165
        }
      ]
    },
    {
      "cell_type": "code",
      "source": [
        "data=cur.execute(\"select count(*) from (select Clicked.ad_id, Clicked.publisher_id, Clicked.CNT, cast(Tot.CNT1 as float), (Clicked.CNT/cast(Tot.CNT1 as float)) *100 as ctr from ( select a.ad_id, c.publisher_id, count(*) CNT from clicks a inner join events b on a.display_id = b.display_id  inner join documents_meta c on c.document_id=b.document_id where a.clicked = 1 group by ad_id, c.publisher_id ) Clicked, ( select a.ad_id, c.publisher_id, count(*) CNT1 from clicks a inner join events b on a.display_id = b.display_id inner join documents_meta c on c.document_id=b.document_id group by ad_id, c.publisher_id ) Tot where Clicked.ad_id = Tot.ad_id and Clicked.publisher_id = Tot.publisher_id order by ctr desc,Clicked.ad_id, Clicked.publisher_id )\")\n",
        "data.fetchall()"
      ],
      "metadata": {
        "colab": {
          "base_uri": "https://localhost:8080/"
        },
        "id": "jzV6vY9gfbyA",
        "outputId": "048f2d32-a675-4d28-99c9-e125522ad369"
      },
      "execution_count": 166,
      "outputs": [
        {
          "output_type": "execute_result",
          "data": {
            "text/plain": [
              "[(1761,)]"
            ]
          },
          "metadata": {},
          "execution_count": 166
        }
      ]
    },
    {
      "cell_type": "markdown",
      "source": [
        "##Question 6##\n",
        "Retrieve all events displayed in desktop (platform) and in US. \n",
        "\n",
        "Please use geo_location field to decide \n",
        "whether a display is shown in US or not. \n",
        "\n",
        "In the SQL query result, please return all attributes of the display \n",
        "event that satisfy the condition. (15 points)\n",
        "\n",
        "\n",
        "In your solution, please provide the SQL query which can best answer the question. Also, please answer \n",
        "how many rows are in the returned results of the provided query. "
      ],
      "metadata": {
        "id": "6aP_sjiwWofU"
      }
    },
    {
      "cell_type": "code",
      "source": [
        "data=cur.execute(\"select a.* from events a where a.platform=1 and geo_location like 'US>%' limit 5\")\n",
        "data.fetchall()"
      ],
      "metadata": {
        "colab": {
          "base_uri": "https://localhost:8080/"
        },
        "id": "jeqLAmxbW0dR",
        "outputId": "8be9a626-a9af-4781-a4cc-d74ae2e0afe6"
      },
      "execution_count": 167,
      "outputs": [
        {
          "output_type": "execute_result",
          "data": {
            "text/plain": [
              "[(9, '9dddccf70f6067', 1772126, 667, 1, 'US>FL>528'),\n",
              " (12, '6fa993bd0e0157', 892701, 718, 1, 'US>TX>612'),\n",
              " (13, '7355615832b3af', 1778533, 739, 1, 'US>AZ>753'),\n",
              " (16, '30c0ad12b36375', 1727882, 1033, 1, 'US>FL>561'),\n",
              " (31, '6a875b33107c5c', 1766961, 2557, 1, 'US>KY>529')]"
            ]
          },
          "metadata": {},
          "execution_count": 167
        }
      ]
    },
    {
      "cell_type": "code",
      "source": [
        "data=cur.execute(\"select count(*) from (select a.* from events a where a.platform=1 and geo_location like 'US>%')\")\n",
        "data.fetchall()"
      ],
      "metadata": {
        "colab": {
          "base_uri": "https://localhost:8080/"
        },
        "id": "8iJiD43aXb7J",
        "outputId": "f0323c97-cd00-48cb-9ebd-4325a2162b3a"
      },
      "execution_count": 168,
      "outputs": [
        {
          "output_type": "execute_result",
          "data": {
            "text/plain": [
              "[(490,)]"
            ]
          },
          "metadata": {},
          "execution_count": 168
        }
      ]
    }
  ]
}